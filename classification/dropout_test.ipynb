{
 "cells": [
  {
   "cell_type": "code",
   "execution_count": 1,
   "id": "436ddc76",
   "metadata": {},
   "outputs": [],
   "source": [
    "import os\n",
    "import torch\n",
    "import splitfolders\n",
    "import torch.nn as nn\n",
    "import torch.optim as optim\n",
    "import torch.nn.functional as F\n",
    "import torchvision\n",
    "import torchvision.transforms as transforms\n",
    "import matplotlib.pyplot as plt\n",
    "import numpy as np\n",
    "import matplotlib\n",
    "from tqdm import tqdm\n",
    "from sklearn.metrics import precision_score\n",
    "from sklearn.metrics import recall_score\n",
    "\n",
    "import torchinfo\n",
    "from  torch.optim.lr_scheduler import ReduceLROnPlateau\n",
    "from torchmetrics.classification import MulticlassAccuracy, MulticlassF1Score, MulticlassPrecision, MulticlassRecall\n",
    "\n",
    "%matplotlib inline\n",
    "\n",
    "from os import listdir\n",
    "os.environ['KMP_DUPLICATE_LIB_OK']='True'\n",
    "\n",
    "device = torch.device(\"cuda\" if torch.cuda.is_available() else \"cpu\")"
   ]
  },
  {
   "cell_type": "code",
   "execution_count": 2,
   "id": "b1a71a41",
   "metadata": {},
   "outputs": [
    {
     "name": "stdout",
     "output_type": "stream",
     "text": [
      "20\n",
      "['abraham_grampa_simpson', 'agnes_skinner', 'apu_nahasapeemapetilon', 'barney_gumble', 'bart_simpson', 'carl_carlson', 'charles_montgomery_burns', 'chief_wiggum', 'cletus_spuckler', 'comic_book_guy', 'disco_stu', 'edna_krabappel', 'fat_tony', 'gil', 'groundskeeper_willie', 'homer_simpson', 'kent_brockman', 'krusty_the_clown', 'lenny_leonard', 'lionel_hutz']\n"
     ]
    }
   ],
   "source": [
    "input_dir = \"Lab1\\simpsons_dataset\"\n",
    "PATH = \"Lab1\\data\"\n",
    "\n",
    "#splitfolders.ratio(input_dir, output=PATH,seed=1332, ratio=(.6, 0.2,0.2))\n",
    "\n",
    "image_size = (64, 64, 3)\n",
    "epochs = 20\n",
    "classes = os.listdir(input_dir)\n",
    "print(len(classes))\n",
    "print((classes))"
   ]
  },
  {
   "cell_type": "code",
   "execution_count": 3,
   "id": "edc6ac9c",
   "metadata": {},
   "outputs": [],
   "source": [
    "def image_shower(images, labels, n):\n",
    "    plt.figure(figsize=(12, 12))\n",
    "    for i, image in enumerate(images[:n]):\n",
    "        plt.subplot(n, n, i + 1)\n",
    "        image = image / 2 + 0.5\n",
    "        plt.imshow(image.numpy().transpose((1, 2, 0)).squeeze())\n",
    "    print(\"Real Labels: \", ' '.join('%6s' % classes[label] for label in labels[:n]))\n",
    "    \n",
    "transform = transforms.Compose(\n",
    "    [transforms.Resize((32,32)), \n",
    "     transforms.ToTensor(), \n",
    "    transforms.Normalize(mean=[0.485, 0.456, 0.406], std=[0.229, 0.224, 0.225])])"
   ]
  },
  {
   "cell_type": "code",
   "execution_count": 4,
   "id": "71c67d1a",
   "metadata": {},
   "outputs": [],
   "source": [
    "trainset = torchvision.datasets.ImageFolder(os.path.join(PATH, \"train\"),\n",
    "                                            transform=transform)\n",
    "trainloader = torch.utils.data.DataLoader(trainset,\n",
    "                                          batch_size=100,\n",
    "                                          num_workers=0,\n",
    "                                          shuffle=True)\n",
    "\n",
    "\n",
    "valset = torchvision.datasets.ImageFolder(os.path.join(PATH, \"val\"),\n",
    "                                           transform=transform)\n",
    "valloader = torch.utils.data.DataLoader(valset,\n",
    "                                         batch_size=50,\n",
    "                                         num_workers=0,\n",
    "                                         shuffle=True)\n",
    "\n",
    "\n",
    "testset = torchvision.datasets.ImageFolder(os.path.join(PATH, \"test\"),\n",
    "                                           transform=transform)\n",
    "testloader = torch.utils.data.DataLoader(testset,\n",
    "                                         batch_size=50,\n",
    "                                         num_workers=0,\n",
    "                                         shuffle=True)\n"
   ]
  },
  {
   "cell_type": "code",
   "execution_count": 5,
   "id": "bbde1975",
   "metadata": {},
   "outputs": [],
   "source": [
    "class Net(nn.Module):\n",
    "    def __init__(self):\n",
    "        super().__init__()\n",
    "        self.conv1 = nn.Conv2d(3, 6, 5)\n",
    "        self.pool = nn.MaxPool2d(2, 2)\n",
    "        self.conv2 = nn.Conv2d(6, 16, 5)\n",
    "        self.fc1 = nn.Linear(16 * 5 * 5, 120)\n",
    "        self.fc2 = nn.Linear(120, 84)\n",
    "        self.fc3 = nn.Linear(84, 42)\n",
    "\n",
    "    def forward(self, x):\n",
    "        x = self.pool(F.relu(self.conv1(x)))\n",
    "        x = self.pool(F.relu(self.conv2(x)))\n",
    "        x = torch.flatten(x, 1)\n",
    "        x = F.relu(self.fc1(x))\n",
    "        x = F.relu(self.fc2(x))\n",
    "        x = self.fc3(x)\n",
    "        return x\n",
    "\n",
    "\n",
    "net = Net()"
   ]
  },
  {
   "cell_type": "code",
   "execution_count": 6,
   "id": "95c7f645",
   "metadata": {},
   "outputs": [],
   "source": [
    "class Net2(nn.Module):\n",
    "    def __init__(self):\n",
    "        super().__init__()\n",
    "        self.conv1 = nn.Conv2d(3, 6, 5)\n",
    "        self.pool = nn.MaxPool2d(2, 2)\n",
    "        self.conv2 = nn.Conv2d(6, 16, 5)\n",
    "        self.fc1 = nn.Linear(16 * 5 * 5, 120)\n",
    "        self.fc2 = nn.Linear(120, 84)\n",
    "        self.fc3 = nn.Linear(84, 42)\n",
    "        self.drop = nn.Dropout(p=0.5)\n",
    "\n",
    "    def forward(self, x):\n",
    "        x = self.pool(F.relu(self.conv1(x)))\n",
    "        x = self.pool(F.relu(self.conv2(x)))\n",
    "        x = torch.flatten(x, 1) # flatten all dimensions except batch\n",
    "        x = self.drop(F.relu(self.fc1(x)))\n",
    "        x = self.drop(F.relu(self.fc2(x)))\n",
    "        x = self.fc3(x)\n",
    "        return x\n",
    "\n",
    "\n",
    "net2 = Net2()"
   ]
  },
  {
   "cell_type": "code",
   "execution_count": 7,
   "id": "724b37e4",
   "metadata": {},
   "outputs": [],
   "source": [
    "criterion = nn.CrossEntropyLoss()\n",
    "optimizer = optim.SGD(net.parameters(), lr = 0.001, momentum=0.9)\n",
    "optimizer2 = optim.SGD(net2.parameters(), lr = 0.001, momentum=0.9)"
   ]
  },
  {
   "cell_type": "code",
   "execution_count": 8,
   "id": "6fe2b38d",
   "metadata": {},
   "outputs": [
    {
     "name": "stderr",
     "output_type": "stream",
     "text": [
      "132it [01:47,  1.23it/s]\n",
      "84it [00:35,  2.37it/s]\n"
     ]
    },
    {
     "name": "stdout",
     "output_type": "stream",
     "text": [
      "Epoch 1 - Train loss: 3.7187467777367793 \n",
      "Epoch 1 - Val loss: 3.6796523190680004 \n"
     ]
    },
    {
     "name": "stderr",
     "output_type": "stream",
     "text": [
      "132it [01:52,  1.17it/s]\n",
      "84it [00:35,  2.39it/s]\n"
     ]
    },
    {
     "name": "stdout",
     "output_type": "stream",
     "text": [
      "Epoch 2 - Train loss: 3.5814471768610403 \n",
      "Epoch 2 - Val loss: 3.3138274323372614 \n"
     ]
    },
    {
     "name": "stderr",
     "output_type": "stream",
     "text": [
      "132it [01:50,  1.19it/s]\n",
      "84it [00:35,  2.35it/s]\n"
     ]
    },
    {
     "name": "stdout",
     "output_type": "stream",
     "text": [
      "Epoch 3 - Train loss: 3.2422337983593796 \n",
      "Epoch 3 - Val loss: 3.1069627148764476 \n"
     ]
    },
    {
     "name": "stderr",
     "output_type": "stream",
     "text": [
      "132it [01:50,  1.19it/s]\n",
      "84it [00:35,  2.34it/s]\n"
     ]
    },
    {
     "name": "stdout",
     "output_type": "stream",
     "text": [
      "Epoch 4 - Train loss: 3.1897654858502476 \n",
      "Epoch 4 - Val loss: 3.065515418847402 \n"
     ]
    },
    {
     "name": "stderr",
     "output_type": "stream",
     "text": [
      "132it [01:49,  1.20it/s]\n",
      "84it [00:35,  2.37it/s]\n"
     ]
    },
    {
     "name": "stdout",
     "output_type": "stream",
     "text": [
      "Epoch 5 - Train loss: 3.127616161649877 \n",
      "Epoch 5 - Val loss: 2.9884319674401056 \n"
     ]
    },
    {
     "name": "stderr",
     "output_type": "stream",
     "text": [
      "132it [01:50,  1.19it/s]\n",
      "84it [00:35,  2.35it/s]\n"
     ]
    },
    {
     "name": "stdout",
     "output_type": "stream",
     "text": [
      "Epoch 6 - Train loss: 3.053649972785603 \n",
      "Epoch 6 - Val loss: 2.887164885089511 \n"
     ]
    },
    {
     "name": "stderr",
     "output_type": "stream",
     "text": [
      "132it [01:52,  1.17it/s]\n",
      "84it [00:35,  2.39it/s]\n"
     ]
    },
    {
     "name": "stdout",
     "output_type": "stream",
     "text": [
      "Epoch 7 - Train loss: 2.932013867479382 \n",
      "Epoch 7 - Val loss: 2.788803214118594 \n"
     ]
    },
    {
     "name": "stderr",
     "output_type": "stream",
     "text": [
      "132it [01:48,  1.21it/s]\n",
      "84it [00:35,  2.38it/s]\n"
     ]
    },
    {
     "name": "stdout",
     "output_type": "stream",
     "text": [
      "Epoch 8 - Train loss: 2.8283661766485735 \n",
      "Epoch 8 - Val loss: 2.687695270492917 \n"
     ]
    },
    {
     "name": "stderr",
     "output_type": "stream",
     "text": [
      "132it [01:47,  1.23it/s]\n",
      "84it [00:35,  2.39it/s]\n"
     ]
    },
    {
     "name": "stdout",
     "output_type": "stream",
     "text": [
      "Epoch 9 - Train loss: 2.735487921671434 \n",
      "Epoch 9 - Val loss: 2.6353130539258323 \n"
     ]
    },
    {
     "name": "stderr",
     "output_type": "stream",
     "text": [
      "132it [01:39,  1.32it/s]\n",
      "84it [00:34,  2.45it/s]\n"
     ]
    },
    {
     "name": "stdout",
     "output_type": "stream",
     "text": [
      "Epoch 10 - Train loss: 2.6581214846986714 \n",
      "Epoch 10 - Val loss: 2.6201387615430924 \n"
     ]
    },
    {
     "name": "stderr",
     "output_type": "stream",
     "text": [
      "132it [01:51,  1.19it/s]\n",
      "84it [00:35,  2.37it/s]\n"
     ]
    },
    {
     "name": "stdout",
     "output_type": "stream",
     "text": [
      "Epoch 11 - Train loss: 2.6021486033092844 \n",
      "Epoch 11 - Val loss: 2.5281267648651484 \n"
     ]
    },
    {
     "name": "stderr",
     "output_type": "stream",
     "text": [
      "132it [01:51,  1.18it/s]\n",
      "84it [00:22,  3.77it/s]\n"
     ]
    },
    {
     "name": "stdout",
     "output_type": "stream",
     "text": [
      "Epoch 12 - Train loss: 2.534730665611498 \n",
      "Epoch 12 - Val loss: 2.45394218819482 \n"
     ]
    },
    {
     "name": "stderr",
     "output_type": "stream",
     "text": [
      "132it [00:46,  2.86it/s]\n",
      "84it [00:13,  6.14it/s]\n"
     ]
    },
    {
     "name": "stdout",
     "output_type": "stream",
     "text": [
      "Epoch 13 - Train loss: 2.446616302837025 \n",
      "Epoch 13 - Val loss: 2.4131309929348173 \n"
     ]
    },
    {
     "name": "stderr",
     "output_type": "stream",
     "text": [
      "132it [00:47,  2.77it/s]\n",
      "84it [00:13,  6.26it/s]\n"
     ]
    },
    {
     "name": "stdout",
     "output_type": "stream",
     "text": [
      "Epoch 14 - Train loss: 2.3843744695186615 \n",
      "Epoch 14 - Val loss: 2.45020407580194 \n"
     ]
    },
    {
     "name": "stderr",
     "output_type": "stream",
     "text": [
      "132it [00:48,  2.74it/s]\n",
      "84it [00:13,  6.13it/s]\n"
     ]
    },
    {
     "name": "stdout",
     "output_type": "stream",
     "text": [
      "Epoch 15 - Train loss: 2.3476554597869064 \n",
      "Epoch 15 - Val loss: 2.3811956629866646 \n"
     ]
    },
    {
     "name": "stderr",
     "output_type": "stream",
     "text": [
      "132it [00:47,  2.76it/s]\n",
      "84it [00:13,  6.19it/s]\n"
     ]
    },
    {
     "name": "stdout",
     "output_type": "stream",
     "text": [
      "Epoch 16 - Train loss: 2.318070807691776 \n",
      "Epoch 16 - Val loss: 2.2752632129760015 \n"
     ]
    },
    {
     "name": "stderr",
     "output_type": "stream",
     "text": [
      "132it [00:49,  2.68it/s]\n",
      "84it [00:14,  5.61it/s]\n"
     ]
    },
    {
     "name": "stdout",
     "output_type": "stream",
     "text": [
      "Epoch 17 - Train loss: 2.2502247004797966 \n",
      "Epoch 17 - Val loss: 2.326678684779576 \n"
     ]
    },
    {
     "name": "stderr",
     "output_type": "stream",
     "text": [
      "132it [01:38,  1.34it/s]\n",
      "84it [00:35,  2.39it/s]\n"
     ]
    },
    {
     "name": "stdout",
     "output_type": "stream",
     "text": [
      "Epoch 18 - Train loss: 2.314622844258944 \n",
      "Epoch 18 - Val loss: 2.215867357594626 \n"
     ]
    },
    {
     "name": "stderr",
     "output_type": "stream",
     "text": [
      "132it [01:46,  1.23it/s]\n",
      "84it [00:35,  2.35it/s]\n"
     ]
    },
    {
     "name": "stdout",
     "output_type": "stream",
     "text": [
      "Epoch 19 - Train loss: 2.1632538564277417 \n",
      "Epoch 19 - Val loss: 2.1951999011493863 \n"
     ]
    },
    {
     "name": "stderr",
     "output_type": "stream",
     "text": [
      "132it [01:47,  1.23it/s]\n",
      "84it [00:34,  2.44it/s]"
     ]
    },
    {
     "name": "stdout",
     "output_type": "stream",
     "text": [
      "Epoch 20 - Train loss: 2.123602863514062 \n",
      "Epoch 20 - Val loss: 2.282552039339429 \n"
     ]
    },
    {
     "name": "stderr",
     "output_type": "stream",
     "text": [
      "\n"
     ]
    }
   ],
   "source": [
    "train_losses = []\n",
    "val_losses= []\n",
    "\n",
    "for epoch in range(epochs):\n",
    "    train_loss, val_loss, correct_train, correct_val = 0, 0, 0, 0\n",
    "    for i, data in tqdm(enumerate(trainloader, 0)):\n",
    "        inputs, labels = data[0].to(device), data[1].to(device)\n",
    "        optimizer.zero_grad()\n",
    "        outputs = net(inputs)\n",
    "        loss = criterion(outputs, labels)\n",
    "        loss.backward()\n",
    "        optimizer.step()\n",
    "        train_loss += loss.item()\n",
    "        prediction = outputs.max(dim=1, keepdim=True)[1]\n",
    "        correct_train += prediction.eq(labels.view_as(prediction)).sum()\n",
    "    \n",
    "    with torch.no_grad():\n",
    "        for i, data in tqdm(enumerate(valloader, 0)):\n",
    "            inputs, labels = data[0].to(device), data[1].to(device)\n",
    "            outputs = net(inputs)\n",
    "            loss = criterion(outputs, labels)\n",
    "            val_loss += loss.item()\n",
    "            prediction = outputs.max(dim=1, keepdim=True)[1]\n",
    "            correct_val += prediction.eq(labels.view_as(prediction)).sum()\n",
    "\n",
    "    train_loss/=len(trainloader)\n",
    "    val_loss/=len(valloader)\n",
    "    train_losses.append(train_loss)\n",
    "    val_losses.append(val_loss)\n",
    "\n",
    "    \n",
    "    print (\"Epoch {} - Train loss: {} \".format(epoch+1, train_loss))\n",
    "    print (\"Epoch {} - Val loss: {} \".format(epoch+1, val_loss))"
   ]
  },
  {
   "cell_type": "code",
   "execution_count": 9,
   "id": "2144cd65",
   "metadata": {
    "scrolled": false
   },
   "outputs": [
    {
     "name": "stderr",
     "output_type": "stream",
     "text": [
      "132it [01:46,  1.24it/s]\n",
      "84it [00:36,  2.32it/s]\n"
     ]
    },
    {
     "name": "stdout",
     "output_type": "stream",
     "text": [
      "Epoch 1 - Train loss: 3.7137287692590193 \n",
      "Epoch 1 - Val loss: 3.6519285922958735 \n"
     ]
    },
    {
     "name": "stderr",
     "output_type": "stream",
     "text": [
      "132it [01:48,  1.22it/s]\n",
      "84it [00:36,  2.31it/s]\n"
     ]
    },
    {
     "name": "stdout",
     "output_type": "stream",
     "text": [
      "Epoch 2 - Train loss: 3.552606082323826 \n",
      "Epoch 2 - Val loss: 3.414074948855809 \n"
     ]
    },
    {
     "name": "stderr",
     "output_type": "stream",
     "text": [
      "132it [01:48,  1.22it/s]\n",
      "84it [00:35,  2.39it/s]\n"
     ]
    },
    {
     "name": "stdout",
     "output_type": "stream",
     "text": [
      "Epoch 3 - Train loss: 3.3813239859812185 \n",
      "Epoch 3 - Val loss: 3.261019445600964 \n"
     ]
    },
    {
     "name": "stderr",
     "output_type": "stream",
     "text": [
      "132it [01:47,  1.23it/s]\n",
      "84it [00:35,  2.38it/s]\n"
     ]
    },
    {
     "name": "stdout",
     "output_type": "stream",
     "text": [
      "Epoch 4 - Train loss: 3.316114944038969 \n",
      "Epoch 4 - Val loss: 3.2210462320418585 \n"
     ]
    },
    {
     "name": "stderr",
     "output_type": "stream",
     "text": [
      "132it [01:47,  1.23it/s]\n",
      "84it [00:36,  2.29it/s]\n"
     ]
    },
    {
     "name": "stdout",
     "output_type": "stream",
     "text": [
      "Epoch 5 - Train loss: 3.287300633661675 \n",
      "Epoch 5 - Val loss: 3.2083203480357216 \n"
     ]
    },
    {
     "name": "stderr",
     "output_type": "stream",
     "text": [
      "132it [01:49,  1.21it/s]\n",
      "84it [00:36,  2.28it/s]\n"
     ]
    },
    {
     "name": "stdout",
     "output_type": "stream",
     "text": [
      "Epoch 6 - Train loss: 3.2676852056474397 \n",
      "Epoch 6 - Val loss: 3.187122725305103 \n"
     ]
    },
    {
     "name": "stderr",
     "output_type": "stream",
     "text": [
      "132it [01:47,  1.23it/s]\n",
      "84it [00:35,  2.34it/s]\n"
     ]
    },
    {
     "name": "stdout",
     "output_type": "stream",
     "text": [
      "Epoch 7 - Train loss: 3.262321914687301 \n",
      "Epoch 7 - Val loss: 3.1727754331770397 \n"
     ]
    },
    {
     "name": "stderr",
     "output_type": "stream",
     "text": [
      "132it [01:53,  1.17it/s]\n",
      "84it [00:35,  2.37it/s]\n"
     ]
    },
    {
     "name": "stdout",
     "output_type": "stream",
     "text": [
      "Epoch 8 - Train loss: 3.2782366384159434 \n",
      "Epoch 8 - Val loss: 3.1654091959907893 \n"
     ]
    },
    {
     "name": "stderr",
     "output_type": "stream",
     "text": [
      "132it [01:49,  1.21it/s]\n",
      "84it [00:35,  2.34it/s]\n"
     ]
    },
    {
     "name": "stdout",
     "output_type": "stream",
     "text": [
      "Epoch 9 - Train loss: 3.235124246640639 \n",
      "Epoch 9 - Val loss: 3.1286405665533885 \n"
     ]
    },
    {
     "name": "stderr",
     "output_type": "stream",
     "text": [
      "132it [01:51,  1.19it/s]\n",
      "84it [00:36,  2.29it/s]\n"
     ]
    },
    {
     "name": "stdout",
     "output_type": "stream",
     "text": [
      "Epoch 10 - Train loss: 3.220831309304093 \n",
      "Epoch 10 - Val loss: 3.1092720854850042 \n"
     ]
    },
    {
     "name": "stderr",
     "output_type": "stream",
     "text": [
      "132it [01:51,  1.18it/s]\n",
      "84it [00:36,  2.32it/s]\n"
     ]
    },
    {
     "name": "stdout",
     "output_type": "stream",
     "text": [
      "Epoch 11 - Train loss: 3.1933005090915794 \n",
      "Epoch 11 - Val loss: 3.0737063941501437 \n"
     ]
    },
    {
     "name": "stderr",
     "output_type": "stream",
     "text": [
      "132it [01:52,  1.18it/s]\n",
      "84it [00:35,  2.34it/s]\n"
     ]
    },
    {
     "name": "stdout",
     "output_type": "stream",
     "text": [
      "Epoch 12 - Train loss: 3.133146373611508 \n",
      "Epoch 12 - Val loss: 3.0343104061626254 \n"
     ]
    },
    {
     "name": "stderr",
     "output_type": "stream",
     "text": [
      "132it [01:52,  1.18it/s]\n",
      "84it [00:35,  2.34it/s]\n"
     ]
    },
    {
     "name": "stdout",
     "output_type": "stream",
     "text": [
      "Epoch 13 - Train loss: 3.0937579292239565 \n",
      "Epoch 13 - Val loss: 2.986343673297337 \n"
     ]
    },
    {
     "name": "stderr",
     "output_type": "stream",
     "text": [
      "132it [01:46,  1.24it/s]\n",
      "84it [00:34,  2.45it/s]\n"
     ]
    },
    {
     "name": "stdout",
     "output_type": "stream",
     "text": [
      "Epoch 14 - Train loss: 3.054862282492898 \n",
      "Epoch 14 - Val loss: 2.9378400388218107 \n"
     ]
    },
    {
     "name": "stderr",
     "output_type": "stream",
     "text": [
      "132it [01:41,  1.30it/s]\n",
      "84it [00:34,  2.45it/s]\n"
     ]
    },
    {
     "name": "stdout",
     "output_type": "stream",
     "text": [
      "Epoch 15 - Train loss: 3.029128499103315 \n",
      "Epoch 15 - Val loss: 2.9131321821893965 \n"
     ]
    },
    {
     "name": "stderr",
     "output_type": "stream",
     "text": [
      "132it [01:37,  1.35it/s]\n",
      "84it [00:33,  2.49it/s]\n"
     ]
    },
    {
     "name": "stdout",
     "output_type": "stream",
     "text": [
      "Epoch 16 - Train loss: 2.990420556429661 \n",
      "Epoch 16 - Val loss: 2.88686736424764 \n"
     ]
    },
    {
     "name": "stderr",
     "output_type": "stream",
     "text": [
      "132it [01:39,  1.33it/s]\n",
      "84it [00:33,  2.49it/s]\n"
     ]
    },
    {
     "name": "stdout",
     "output_type": "stream",
     "text": [
      "Epoch 17 - Train loss: 2.949290293635744 \n",
      "Epoch 17 - Val loss: 2.8366508171671914 \n"
     ]
    },
    {
     "name": "stderr",
     "output_type": "stream",
     "text": [
      "132it [01:37,  1.35it/s]\n",
      "84it [00:34,  2.46it/s]\n"
     ]
    },
    {
     "name": "stdout",
     "output_type": "stream",
     "text": [
      "Epoch 18 - Train loss: 2.902809059981144 \n",
      "Epoch 18 - Val loss: 2.8148964444796243 \n"
     ]
    },
    {
     "name": "stderr",
     "output_type": "stream",
     "text": [
      "132it [01:36,  1.37it/s]\n",
      "84it [00:33,  2.48it/s]\n"
     ]
    },
    {
     "name": "stdout",
     "output_type": "stream",
     "text": [
      "Epoch 19 - Train loss: 2.8718970454100408 \n",
      "Epoch 19 - Val loss: 2.777979944433485 \n"
     ]
    },
    {
     "name": "stderr",
     "output_type": "stream",
     "text": [
      "132it [01:39,  1.33it/s]\n",
      "84it [00:34,  2.45it/s]"
     ]
    },
    {
     "name": "stdout",
     "output_type": "stream",
     "text": [
      "Epoch 20 - Train loss: 2.8598566597158257 \n",
      "Epoch 20 - Val loss: 2.753254697436378 \n"
     ]
    },
    {
     "name": "stderr",
     "output_type": "stream",
     "text": [
      "\n"
     ]
    }
   ],
   "source": [
    "train_losses2 = []\n",
    "val_losses2= []\n",
    "\n",
    "for epoch in range(epochs):\n",
    "    train_loss2, val_loss2, correct_train2, correct_val2 = 0, 0, 0, 0\n",
    "    for i, data in tqdm(enumerate(trainloader, 0)):\n",
    "        inputs, labels = data[0].to(device), data[1].to(device)\n",
    "        optimizer2.zero_grad()\n",
    "        outputs = net2(inputs)\n",
    "        loss = criterion(outputs, labels)\n",
    "        loss.backward()\n",
    "        optimizer2.step()\n",
    "        train_loss2 += loss.item()\n",
    "        prediction = outputs.max(dim=1, keepdim=True)[1]\n",
    "        correct_train2 += prediction.eq(labels.view_as(prediction)).sum()\n",
    "    \n",
    "    with torch.no_grad():\n",
    "        for i, data in tqdm(enumerate(valloader, 0)):\n",
    "            inputs, labels = data[0].to(device), data[1].to(device)\n",
    "            outputs = net2(inputs)\n",
    "            loss = criterion(outputs, labels)\n",
    "            val_loss2 += loss.item()\n",
    "            prediction = outputs.max(dim=1, keepdim=True)[1]\n",
    "            correct_val2 += prediction.eq(labels.view_as(prediction)).sum()\n",
    "\n",
    "    train_loss2/=len(trainloader)\n",
    "    val_loss2/=len(valloader)\n",
    "    train_losses2.append(train_loss2)\n",
    "    val_losses2.append(val_loss2)\n",
    "\n",
    "    \n",
    "    print (\"Epoch {} - Train loss: {} \".format(epoch+1, train_loss2))\n",
    "    print (\"Epoch {} - Val loss: {} \".format(epoch+1, val_loss2))"
   ]
  },
  {
   "cell_type": "code",
   "execution_count": 10,
   "id": "77fdbf57",
   "metadata": {},
   "outputs": [
    {
     "data": {
      "image/png": "[encoded data removed]",
      "text/plain": [
       "<Figure size 640x480 with 1 Axes>"
      ]
     },
     "metadata": {},
     "output_type": "display_data"
    }
   ],
   "source": [
    "plt.plot([i for i in range(0, epochs)], train_losses) #without drop\n",
    "plt.plot([i for i in range(0, epochs)], val_losses)\n",
    "plt.ylabel('Loos')\n",
    "plt.xlabel('Epochs')\n",
    "plt.show()"
   ]
  },
  {
   "cell_type": "code",
   "execution_count": 22,
   "id": "fc0f772a",
   "metadata": {},
   "outputs": [
    {
     "data": {
      "image/png": "[encoded data removed]",
      "text/plain": [
       "<Figure size 640x480 with 1 Axes>"
      ]
     },
     "metadata": {},
     "output_type": "display_data"
    }
   ],
   "source": [
    "plt.plot([i for i in range(0, epochs)], train_losses2) #с\n",
    "plt.plot([i for i in range(0, epochs)], val_losses2) #о\n",
    "plt.ylabel('Loos')\n",
    "plt.xlabel('Epochs')\n",
    "plt.show()"
   ]
  },
  {
   "cell_type": "code",
   "execution_count": null,
   "id": "8fbd1b6e",
   "metadata": {},
   "outputs": [],
   "source": []
  }
 ],
 "metadata": {
  "kernelspec": {
   "display_name": "Python 3 (ipykernel)",
   "language": "python",
   "name": "python3"
  },
  "language_info": {
   "codemirror_mode": {
    "name": "ipython",
    "version": 3
   },
   "file_extension": ".py",
   "mimetype": "text/x-python",
   "name": "python",
   "nbconvert_exporter": "python",
   "pygments_lexer": "ipython3",
   "version": "3.9.13"
  }
 },
 "nbformat": 4,
 "nbformat_minor": 5
}
